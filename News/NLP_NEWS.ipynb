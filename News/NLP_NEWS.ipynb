{
  "nbformat": 4,
  "nbformat_minor": 0,
  "metadata": {
    "colab": {
      "provenance": [],
      "authorship_tag": "ABX9TyPveBn4jEiKB7V5/pg3yTZo",
      "include_colab_link": true
    },
    "kernelspec": {
      "name": "python3",
      "display_name": "Python 3"
    },
    "language_info": {
      "name": "python"
    }
  },
  "cells": [
    {
      "cell_type": "markdown",
      "metadata": {
        "id": "view-in-github",
        "colab_type": "text"
      },
      "source": [
        "<a href=\"https://colab.research.google.com/github/ulyazzh/NaturalLanguageProcessing/blob/main/News/NLP_NEWS.ipynb\" target=\"_parent\"><img src=\"https://colab.research.google.com/assets/colab-badge.svg\" alt=\"Open In Colab\"/></a>"
      ]
    },
    {
      "cell_type": "code",
      "execution_count": null,
      "metadata": {
        "id": "Qme27ns8lP_F"
      },
      "outputs": [],
      "source": [
        "import pandas as pd\n",
        "import numpy as np\n",
        "\n",
        "#untuk pre-processing\n",
        "import re, string\n",
        "import nltk\n",
        "from nltk.tokenize import word_tokenize\n",
        "from nltk.corpus import stopwords\n",
        "from nltk.tokenize import word_tokenize\n",
        "from nltk.stem import SnowballStemmer\n",
        "from nltk.corpus import wordnet\n",
        "from nltk.stem import WordNetLemmatizer"
      ]
    },
    {
      "cell_type": "code",
      "source": [
        "nltk.download('punkt')\n",
        "nltk.download('averaged_perceptron_tagger')\n",
        "nltk.download('averaged_perceptron_tagger_eng')\n",
        "nltk.download('wordnet')\n",
        "nltk.download('stopwords')"
      ],
      "metadata": {
        "colab": {
          "base_uri": "https://localhost:8080/"
        },
        "id": "qDJA2IMPlfUK",
        "outputId": "ca979c76-1b57-4f1b-99a8-4b311ab380ad"
      },
      "execution_count": null,
      "outputs": [
        {
          "output_type": "stream",
          "name": "stderr",
          "text": [
            "[nltk_data] Downloading package punkt to /root/nltk_data...\n",
            "[nltk_data]   Package punkt is already up-to-date!\n",
            "[nltk_data] Downloading package averaged_perceptron_tagger to\n",
            "[nltk_data]     /root/nltk_data...\n",
            "[nltk_data]   Package averaged_perceptron_tagger is already up-to-\n",
            "[nltk_data]       date!\n",
            "[nltk_data] Downloading package averaged_perceptron_tagger_eng to\n",
            "[nltk_data]     /root/nltk_data...\n",
            "[nltk_data]   Unzipping taggers/averaged_perceptron_tagger_eng.zip.\n",
            "[nltk_data] Downloading package wordnet to /root/nltk_data...\n",
            "[nltk_data]   Package wordnet is already up-to-date!\n",
            "[nltk_data] Downloading package stopwords to /root/nltk_data...\n",
            "[nltk_data]   Package stopwords is already up-to-date!\n"
          ]
        },
        {
          "output_type": "execute_result",
          "data": {
            "text/plain": [
              "True"
            ]
          },
          "metadata": {},
          "execution_count": 31
        }
      ]
    },
    {
      "cell_type": "code",
      "source": [
        "#untuk modelling\n",
        "from sklearn.model_selection import train_test_split\n",
        "from sklearn.linear_model import LogisticRegression\n",
        "from sklearn.naive_bayes import MultinomialNB\n",
        "from sklearn.metrics import classification_report, f1_score, accuracy_score, confusion_matrix\n",
        "from sklearn.metrics import roc_curve, auc, roc_auc_score"
      ],
      "metadata": {
        "id": "4htLuZbFli8I"
      },
      "execution_count": null,
      "outputs": []
    },
    {
      "cell_type": "code",
      "source": [
        "# bag of words\n",
        "from sklearn.feature_extraction.text import TfidfVectorizer\n",
        "from sklearn.feature_extraction.text import CountVectorizer"
      ],
      "metadata": {
        "id": "dZsoQRmAllDR"
      },
      "execution_count": null,
      "outputs": []
    },
    {
      "cell_type": "code",
      "source": [
        "#word embedding\n",
        "import gensim\n",
        "from gensim.models import Word2Vec\n"
      ],
      "metadata": {
        "id": "JUlkq_B9loWL"
      },
      "execution_count": null,
      "outputs": []
    },
    {
      "cell_type": "code",
      "source": [
        "#membaca dataset\n",
        "df_train= pd.read_csv('Data_Train.csv', encoding='latin-1')\n",
        "df_test=pd.read_csv('Data_Test.csv', encoding='latin-1')"
      ],
      "metadata": {
        "id": "Ntv980Anm56C"
      },
      "execution_count": null,
      "outputs": []
    },
    {
      "cell_type": "code",
      "source": [
        "#menampilkan dataset\n",
        "df_train.head()"
      ],
      "metadata": {
        "colab": {
          "base_uri": "https://localhost:8080/",
          "height": 206
        },
        "id": "URkUfxL9nX1m",
        "outputId": "39945b80-f67b-455b-eb0a-e5ca1e6cdc41"
      },
      "execution_count": null,
      "outputs": [
        {
          "output_type": "execute_result",
          "data": {
            "text/plain": [
              "                                               STORY  SECTION\n",
              "0  But the most painful was the huge reversal in ...        3\n",
              "1  How formidable is the opposition alliance amon...        0\n",
              "2  Most Asian currencies were trading lower today...        3\n",
              "3  If you want to answer any question, click on ...        1\n",
              "4  In global markets, gold prices edged up today ...        3"
            ],
            "text/html": [
              "\n",
              "  <div id=\"df-5e02b619-0e6d-4657-b635-69d728e5a227\" class=\"colab-df-container\">\n",
              "    <div>\n",
              "<style scoped>\n",
              "    .dataframe tbody tr th:only-of-type {\n",
              "        vertical-align: middle;\n",
              "    }\n",
              "\n",
              "    .dataframe tbody tr th {\n",
              "        vertical-align: top;\n",
              "    }\n",
              "\n",
              "    .dataframe thead th {\n",
              "        text-align: right;\n",
              "    }\n",
              "</style>\n",
              "<table border=\"1\" class=\"dataframe\">\n",
              "  <thead>\n",
              "    <tr style=\"text-align: right;\">\n",
              "      <th></th>\n",
              "      <th>STORY</th>\n",
              "      <th>SECTION</th>\n",
              "    </tr>\n",
              "  </thead>\n",
              "  <tbody>\n",
              "    <tr>\n",
              "      <th>0</th>\n",
              "      <td>But the most painful was the huge reversal in ...</td>\n",
              "      <td>3</td>\n",
              "    </tr>\n",
              "    <tr>\n",
              "      <th>1</th>\n",
              "      <td>How formidable is the opposition alliance amon...</td>\n",
              "      <td>0</td>\n",
              "    </tr>\n",
              "    <tr>\n",
              "      <th>2</th>\n",
              "      <td>Most Asian currencies were trading lower today...</td>\n",
              "      <td>3</td>\n",
              "    </tr>\n",
              "    <tr>\n",
              "      <th>3</th>\n",
              "      <td>If you want to answer any question, click on ...</td>\n",
              "      <td>1</td>\n",
              "    </tr>\n",
              "    <tr>\n",
              "      <th>4</th>\n",
              "      <td>In global markets, gold prices edged up today ...</td>\n",
              "      <td>3</td>\n",
              "    </tr>\n",
              "  </tbody>\n",
              "</table>\n",
              "</div>\n",
              "    <div class=\"colab-df-buttons\">\n",
              "\n",
              "  <div class=\"colab-df-container\">\n",
              "    <button class=\"colab-df-convert\" onclick=\"convertToInteractive('df-5e02b619-0e6d-4657-b635-69d728e5a227')\"\n",
              "            title=\"Convert this dataframe to an interactive table.\"\n",
              "            style=\"display:none;\">\n",
              "\n",
              "  <svg xmlns=\"http://www.w3.org/2000/svg\" height=\"24px\" viewBox=\"0 -960 960 960\">\n",
              "    <path d=\"M120-120v-720h720v720H120Zm60-500h600v-160H180v160Zm220 220h160v-160H400v160Zm0 220h160v-160H400v160ZM180-400h160v-160H180v160Zm440 0h160v-160H620v160ZM180-180h160v-160H180v160Zm440 0h160v-160H620v160Z\"/>\n",
              "  </svg>\n",
              "    </button>\n",
              "\n",
              "  <style>\n",
              "    .colab-df-container {\n",
              "      display:flex;\n",
              "      gap: 12px;\n",
              "    }\n",
              "\n",
              "    .colab-df-convert {\n",
              "      background-color: #E8F0FE;\n",
              "      border: none;\n",
              "      border-radius: 50%;\n",
              "      cursor: pointer;\n",
              "      display: none;\n",
              "      fill: #1967D2;\n",
              "      height: 32px;\n",
              "      padding: 0 0 0 0;\n",
              "      width: 32px;\n",
              "    }\n",
              "\n",
              "    .colab-df-convert:hover {\n",
              "      background-color: #E2EBFA;\n",
              "      box-shadow: 0px 1px 2px rgba(60, 64, 67, 0.3), 0px 1px 3px 1px rgba(60, 64, 67, 0.15);\n",
              "      fill: #174EA6;\n",
              "    }\n",
              "\n",
              "    .colab-df-buttons div {\n",
              "      margin-bottom: 4px;\n",
              "    }\n",
              "\n",
              "    [theme=dark] .colab-df-convert {\n",
              "      background-color: #3B4455;\n",
              "      fill: #D2E3FC;\n",
              "    }\n",
              "\n",
              "    [theme=dark] .colab-df-convert:hover {\n",
              "      background-color: #434B5C;\n",
              "      box-shadow: 0px 1px 3px 1px rgba(0, 0, 0, 0.15);\n",
              "      filter: drop-shadow(0px 1px 2px rgba(0, 0, 0, 0.3));\n",
              "      fill: #FFFFFF;\n",
              "    }\n",
              "  </style>\n",
              "\n",
              "    <script>\n",
              "      const buttonEl =\n",
              "        document.querySelector('#df-5e02b619-0e6d-4657-b635-69d728e5a227 button.colab-df-convert');\n",
              "      buttonEl.style.display =\n",
              "        google.colab.kernel.accessAllowed ? 'block' : 'none';\n",
              "\n",
              "      async function convertToInteractive(key) {\n",
              "        const element = document.querySelector('#df-5e02b619-0e6d-4657-b635-69d728e5a227');\n",
              "        const dataTable =\n",
              "          await google.colab.kernel.invokeFunction('convertToInteractive',\n",
              "                                                    [key], {});\n",
              "        if (!dataTable) return;\n",
              "\n",
              "        const docLinkHtml = 'Like what you see? Visit the ' +\n",
              "          '<a target=\"_blank\" href=https://colab.research.google.com/notebooks/data_table.ipynb>data table notebook</a>'\n",
              "          + ' to learn more about interactive tables.';\n",
              "        element.innerHTML = '';\n",
              "        dataTable['output_type'] = 'display_data';\n",
              "        await google.colab.output.renderOutput(dataTable, element);\n",
              "        const docLink = document.createElement('div');\n",
              "        docLink.innerHTML = docLinkHtml;\n",
              "        element.appendChild(docLink);\n",
              "      }\n",
              "    </script>\n",
              "  </div>\n",
              "\n",
              "\n",
              "    <div id=\"df-5cff1fa8-191a-4022-bc42-7b2ba3666dee\">\n",
              "      <button class=\"colab-df-quickchart\" onclick=\"quickchart('df-5cff1fa8-191a-4022-bc42-7b2ba3666dee')\"\n",
              "                title=\"Suggest charts\"\n",
              "                style=\"display:none;\">\n",
              "\n",
              "<svg xmlns=\"http://www.w3.org/2000/svg\" height=\"24px\"viewBox=\"0 0 24 24\"\n",
              "     width=\"24px\">\n",
              "    <g>\n",
              "        <path d=\"M19 3H5c-1.1 0-2 .9-2 2v14c0 1.1.9 2 2 2h14c1.1 0 2-.9 2-2V5c0-1.1-.9-2-2-2zM9 17H7v-7h2v7zm4 0h-2V7h2v10zm4 0h-2v-4h2v4z\"/>\n",
              "    </g>\n",
              "</svg>\n",
              "      </button>\n",
              "\n",
              "<style>\n",
              "  .colab-df-quickchart {\n",
              "      --bg-color: #E8F0FE;\n",
              "      --fill-color: #1967D2;\n",
              "      --hover-bg-color: #E2EBFA;\n",
              "      --hover-fill-color: #174EA6;\n",
              "      --disabled-fill-color: #AAA;\n",
              "      --disabled-bg-color: #DDD;\n",
              "  }\n",
              "\n",
              "  [theme=dark] .colab-df-quickchart {\n",
              "      --bg-color: #3B4455;\n",
              "      --fill-color: #D2E3FC;\n",
              "      --hover-bg-color: #434B5C;\n",
              "      --hover-fill-color: #FFFFFF;\n",
              "      --disabled-bg-color: #3B4455;\n",
              "      --disabled-fill-color: #666;\n",
              "  }\n",
              "\n",
              "  .colab-df-quickchart {\n",
              "    background-color: var(--bg-color);\n",
              "    border: none;\n",
              "    border-radius: 50%;\n",
              "    cursor: pointer;\n",
              "    display: none;\n",
              "    fill: var(--fill-color);\n",
              "    height: 32px;\n",
              "    padding: 0;\n",
              "    width: 32px;\n",
              "  }\n",
              "\n",
              "  .colab-df-quickchart:hover {\n",
              "    background-color: var(--hover-bg-color);\n",
              "    box-shadow: 0 1px 2px rgba(60, 64, 67, 0.3), 0 1px 3px 1px rgba(60, 64, 67, 0.15);\n",
              "    fill: var(--button-hover-fill-color);\n",
              "  }\n",
              "\n",
              "  .colab-df-quickchart-complete:disabled,\n",
              "  .colab-df-quickchart-complete:disabled:hover {\n",
              "    background-color: var(--disabled-bg-color);\n",
              "    fill: var(--disabled-fill-color);\n",
              "    box-shadow: none;\n",
              "  }\n",
              "\n",
              "  .colab-df-spinner {\n",
              "    border: 2px solid var(--fill-color);\n",
              "    border-color: transparent;\n",
              "    border-bottom-color: var(--fill-color);\n",
              "    animation:\n",
              "      spin 1s steps(1) infinite;\n",
              "  }\n",
              "\n",
              "  @keyframes spin {\n",
              "    0% {\n",
              "      border-color: transparent;\n",
              "      border-bottom-color: var(--fill-color);\n",
              "      border-left-color: var(--fill-color);\n",
              "    }\n",
              "    20% {\n",
              "      border-color: transparent;\n",
              "      border-left-color: var(--fill-color);\n",
              "      border-top-color: var(--fill-color);\n",
              "    }\n",
              "    30% {\n",
              "      border-color: transparent;\n",
              "      border-left-color: var(--fill-color);\n",
              "      border-top-color: var(--fill-color);\n",
              "      border-right-color: var(--fill-color);\n",
              "    }\n",
              "    40% {\n",
              "      border-color: transparent;\n",
              "      border-right-color: var(--fill-color);\n",
              "      border-top-color: var(--fill-color);\n",
              "    }\n",
              "    60% {\n",
              "      border-color: transparent;\n",
              "      border-right-color: var(--fill-color);\n",
              "    }\n",
              "    80% {\n",
              "      border-color: transparent;\n",
              "      border-right-color: var(--fill-color);\n",
              "      border-bottom-color: var(--fill-color);\n",
              "    }\n",
              "    90% {\n",
              "      border-color: transparent;\n",
              "      border-bottom-color: var(--fill-color);\n",
              "    }\n",
              "  }\n",
              "</style>\n",
              "\n",
              "      <script>\n",
              "        async function quickchart(key) {\n",
              "          const quickchartButtonEl =\n",
              "            document.querySelector('#' + key + ' button');\n",
              "          quickchartButtonEl.disabled = true;  // To prevent multiple clicks.\n",
              "          quickchartButtonEl.classList.add('colab-df-spinner');\n",
              "          try {\n",
              "            const charts = await google.colab.kernel.invokeFunction(\n",
              "                'suggestCharts', [key], {});\n",
              "          } catch (error) {\n",
              "            console.error('Error during call to suggestCharts:', error);\n",
              "          }\n",
              "          quickchartButtonEl.classList.remove('colab-df-spinner');\n",
              "          quickchartButtonEl.classList.add('colab-df-quickchart-complete');\n",
              "        }\n",
              "        (() => {\n",
              "          let quickchartButtonEl =\n",
              "            document.querySelector('#df-5cff1fa8-191a-4022-bc42-7b2ba3666dee button');\n",
              "          quickchartButtonEl.style.display =\n",
              "            google.colab.kernel.accessAllowed ? 'block' : 'none';\n",
              "        })();\n",
              "      </script>\n",
              "    </div>\n",
              "\n",
              "    </div>\n",
              "  </div>\n"
            ],
            "application/vnd.google.colaboratory.intrinsic+json": {
              "type": "dataframe",
              "variable_name": "df_train",
              "summary": "{\n  \"name\": \"df_train\",\n  \"rows\": 7628,\n  \"fields\": [\n    {\n      \"column\": \"STORY\",\n      \"properties\": {\n        \"dtype\": \"string\",\n        \"num_unique_values\": 7548,\n        \"samples\": [\n          \"For instance, Samsung\\u0092s AMOLED panels on its flagship devices can cost nearly ?20,000 to replace. Similarly, getting an OLED display replaced on the iPhone Xs Max can reportedly cost up to $329 (around ?23,470).\\n\\n\\nFurther, since the display also accounts for most of the phone\\u0092s battery usage, two displays running two different sets of apps at the same time will not only require more processing speeds but more battery power too.\\n\\n\\n\\u0093Then there is the question of what value the second screen adds, in comparison to bendable screens, which allow users to switch from a 4-inch to an 8-inch screen,\\\" IDC\\u0092s Singh points out.\\n\\n\\nA lot of the display advancements revolve on how the rest of the ecosystem is evolving, say analysts. Nevertheless, Tarun Pathak, associate director (mobile devices and ecosystems) at Counterpoint Research, believes the time is right for dual-screen phones or foldable phones.\",\n          \"In a separate press conference, BJP spokesperson GVL Narasimha Rao said, \\\"The so-called all-party meeting convened in Delhi is nothing but a confession of defeat by the so-called Mahagathbandhan.\\\" \\\"They are already trying to find excuses for their impending massive defeat. They have not only failed to mount a challenge against the BJP in this election but have also failed as an opposition in the last five years,\\\" he added.\\n\\n\\nAfter the opposition parties' meet on EVMs, AAP supremo Kejriwal told reporters that the people were losing faith in EVMs and the election procedure. Congress leaders and senior advocates Kapil Sibal and Abhishek Singhvi also attended the conference.\\n\\n\\nSinghvi said the opposition parties will approach the Supreme Court for a direction to the EC for matching at least 50% of the votes recorded in VVPAT slips with those registered by EVMs in every assembly segment.\\n\\n\\nSibal said, \\u0093If the EC ignores this issue, we will take other measures. We will not sit quietly. We will approach the Supreme Court.\\\" Singhvi said the opposition parties would launch a nationwide campaign on the issue of \\\"discrepancies\\\" in EVMs and alleged the EC was not doing enough to address it.\\n\\n\\n\\\"Questions were raised after the first phase of elections, we don't think the EC is paying adequate attention. If you press the button before X party, vote goes to Y party. VVPAT displays (paper slips) only for 3 seconds, instead of 7 seconds,\\\" he claimed. \\\"Why the EC does not want 50% VVPAT slips to be counted. Today, 20 to 25% EVMs are not working properly. People vote till 4 am and wait in queues. What does this mean?\\\" asked Sibal, doubting the EC's intentions.\",\n          \"The court expressed its satisfaction at the EC\\u0092s decision to take action against offenders. On Monday, the commission, after being rebuked by the Supreme Court, swiftly passed orders against Mayawati and three other political leaders\\u0097Uttar Pradesh chief minister Yogi Adityanath, Union minister Maneka Gandhi and Samajwadi Party leader Azam Khan. The orders bar them from campaigning, holding public meetings or propagating their parties\\u0092 interests for varying periods.\\n\\n\\nOn Monday, the poll watchdog had told the court that it had no powers to disqualify a candidate found violating the model code of conduct. It could send them a notice followed by an advisory.\\n\\n\\n\\u0093Only in case of repeated violation of the advisories, the EC has the power to file a first information report with the police for initiation of criminal proceedings,\\\" Gogoi observed on Monday.\\n\\n\\nGogoi had ordered the presence of the EC representative in the court as it examined the powers of the body and the actions taken by it against \\u0093instances of making of speeches provoking enmity or hatred between classes of citizens or for voting for any person on the grounds of religion, caste etc\\\".\"\n        ],\n        \"semantic_type\": \"\",\n        \"description\": \"\"\n      }\n    },\n    {\n      \"column\": \"SECTION\",\n      \"properties\": {\n        \"dtype\": \"number\",\n        \"std\": 0,\n        \"min\": 0,\n        \"max\": 3,\n        \"num_unique_values\": 4,\n        \"samples\": [\n          0,\n          2,\n          3\n        ],\n        \"semantic_type\": \"\",\n        \"description\": \"\"\n      }\n    }\n  ]\n}"
            }
          },
          "metadata": {},
          "execution_count": 36
        }
      ]
    },
    {
      "cell_type": "markdown",
      "source": [
        "# **EXPLORATORY DATA ANALYSIS (EDA)**"
      ],
      "metadata": {
        "id": "tuxrDvEFn_Ei"
      }
    },
    {
      "cell_type": "code",
      "source": [
        "#Menghitung distribusi jumlah berita di setiap kategori\n",
        "import seaborn as sns\n",
        "\n",
        "x = df_train['SECTION'].value_counts()\n",
        "print(x)\n",
        "sns.barplot(x=x.index, y=x)"
      ],
      "metadata": {
        "colab": {
          "base_uri": "https://localhost:8080/",
          "height": 576
        },
        "id": "SoAl_dfKnkyv",
        "outputId": "8d216c19-b748-406e-e4d8-e2d616055c99"
      },
      "execution_count": null,
      "outputs": [
        {
          "output_type": "stream",
          "name": "stdout",
          "text": [
            "SECTION\n",
            "1    2772\n",
            "2    1924\n",
            "0    1686\n",
            "3    1246\n",
            "Name: count, dtype: int64\n"
          ]
        },
        {
          "output_type": "execute_result",
          "data": {
            "text/plain": [
              "<Axes: xlabel='SECTION', ylabel='count'>"
            ]
          },
          "metadata": {},
          "execution_count": 37
        },
        {
          "output_type": "display_data",
          "data": {
            "text/plain": [
              "<Figure size 640x480 with 1 Axes>"
            ],
            "image/png": "[encoded data removed]"
          },
          "metadata": {}
        }
      ]
    },
    {
      "cell_type": "markdown",
      "source": [
        "*   SECTION 0: 1686 berita\n",
        "*   SECTION 1: 2772 berita\n",
        "*   SECTION 2: 1924 berita\n",
        "*   SECTION 3: 1246 berita"
      ],
      "metadata": {
        "id": "6f66wvsgxXug"
      }
    },
    {
      "cell_type": "code",
      "source": [
        "df_train.isnull().sum()"
      ],
      "metadata": {
        "colab": {
          "base_uri": "https://localhost:8080/",
          "height": 146
        },
        "id": "vMwRrOdWoDBA",
        "outputId": "996bdb81-42e4-4e1b-a8ea-6f2e0468851d"
      },
      "execution_count": null,
      "outputs": [
        {
          "output_type": "execute_result",
          "data": {
            "text/plain": [
              "STORY      0\n",
              "SECTION    0\n",
              "dtype: int64"
            ],
            "text/html": [
              "<div>\n",
              "<style scoped>\n",
              "    .dataframe tbody tr th:only-of-type {\n",
              "        vertical-align: middle;\n",
              "    }\n",
              "\n",
              "    .dataframe tbody tr th {\n",
              "        vertical-align: top;\n",
              "    }\n",
              "\n",
              "    .dataframe thead th {\n",
              "        text-align: right;\n",
              "    }\n",
              "</style>\n",
              "<table border=\"1\" class=\"dataframe\">\n",
              "  <thead>\n",
              "    <tr style=\"text-align: right;\">\n",
              "      <th></th>\n",
              "      <th>0</th>\n",
              "    </tr>\n",
              "  </thead>\n",
              "  <tbody>\n",
              "    <tr>\n",
              "      <th>STORY</th>\n",
              "      <td>0</td>\n",
              "    </tr>\n",
              "    <tr>\n",
              "      <th>SECTION</th>\n",
              "      <td>0</td>\n",
              "    </tr>\n",
              "  </tbody>\n",
              "</table>\n",
              "</div><br><label><b>dtype:</b> int64</label>"
            ]
          },
          "metadata": {},
          "execution_count": 38
        }
      ]
    },
    {
      "cell_type": "code",
      "source": [
        "# WORD-COUNT\n",
        "df_train['word_count'] = df_train['STORY'].apply(lambda x: len(str(x).split()))"
      ],
      "metadata": {
        "id": "KbFVigVpoJhD"
      },
      "execution_count": null,
      "outputs": []
    },
    {
      "cell_type": "code",
      "source": [
        "# PLOTTING WORD-COUNT\n",
        "import matplotlib.pyplot as plt\n",
        "\n",
        "fig, ax = plt.subplots(1, 1, figsize=(10, 4))\n",
        "df_train['word_count'].hist(ax=ax, color='blue')\n",
        "ax.set_title('Word count distribution')\n",
        "ax.set_xlabel('Word count')\n",
        "ax.set_ylabel('Frequency')\n",
        "plt.show()"
      ],
      "metadata": {
        "colab": {
          "base_uri": "https://localhost:8080/",
          "height": 410
        },
        "id": "tJ1NBwwjoZPI",
        "outputId": "7456d557-dc50-4149-c35c-16f30402f6d6"
      },
      "execution_count": null,
      "outputs": [
        {
          "output_type": "display_data",
          "data": {
            "text/plain": [
              "<Figure size 1000x400 with 1 Axes>"
            ],
            "image/png": "[encoded data removed]"
          },
          "metadata": {}
        }
      ]
    },
    {
      "cell_type": "code",
      "source": [
        "# CHARACTER-COUNT\n",
        "df_train['char_count'] = df_train['STORY'].apply(lambda x: len(str(x)))"
      ],
      "metadata": {
        "id": "Vhp5-kcBojjl"
      },
      "execution_count": null,
      "outputs": []
    },
    {
      "cell_type": "markdown",
      "source": [
        "**TEXT PRE-PROCESSING**"
      ],
      "metadata": {
        "id": "U7-BjvuJos1t"
      }
    },
    {
      "cell_type": "code",
      "source": [
        "#convert to lowercase, strip and remove punctuations\n",
        "def preprocess(text):\n",
        "    text = text.lower()\n",
        "    text=text.strip()\n",
        "    text=re.compile('<.*?>').sub('', text)\n",
        "    text = re.compile('[%s]' % re.escape(string.punctuation)).sub(' ', text)\n",
        "    text = re.sub('\\s+', ' ', text)\n",
        "    text = re.sub(r'\\[[0-9]*\\]',' ',text)\n",
        "    text=re.sub(r'[^\\w\\s]', '', str(text).lower().strip())\n",
        "    text = re.sub(r'\\d',' ',text)\n",
        "    text = re.sub(r'\\s+',' ',text)\n",
        "    return text"
      ],
      "metadata": {
        "id": "sruoidrco0TV"
      },
      "execution_count": null,
      "outputs": []
    },
    {
      "cell_type": "code",
      "source": [
        "# STOPWORD REMOVAL\n",
        "def stopword(string):\n",
        "    a= [i for i in string.split() if i not in stopwords.words('english')]\n",
        "    return ' '.join(a)"
      ],
      "metadata": {
        "id": "D2dOGiQKo_fN"
      },
      "execution_count": null,
      "outputs": []
    },
    {
      "cell_type": "code",
      "source": [
        "#LEMMATIZATION\n",
        "# Initialize the lemmatizer\n",
        "wl = WordNetLemmatizer()\n",
        "\n",
        "# This is a helper function to map NTLK position tags\n",
        "def get_wordnet_pos(tag):\n",
        "    if tag.startswith('J'):\n",
        "        return wordnet.ADJ\n",
        "    elif tag.startswith('V'):\n",
        "        return wordnet.VERB\n",
        "    elif tag.startswith('N'):\n",
        "        return wordnet.NOUN\n",
        "    elif tag.startswith('R'):\n",
        "        return wordnet.ADV\n",
        "    else:\n",
        "        return wordnet.NOUN\n",
        "# Tokenize the sentence\n",
        "def lemmatizer(string):\n",
        "    word_pos_tags = nltk.pos_tag(word_tokenize(string)) # Get position tags\n",
        "    a=[wl.lemmatize(tag[0], get_wordnet_pos(tag[1])) for idx, tag in enumerate(word_pos_tags)] # Map the position tag and lemmatize the word/token\n",
        "    return \" \".join(a)"
      ],
      "metadata": {
        "id": "wf-1EeiEpFud"
      },
      "execution_count": null,
      "outputs": []
    },
    {
      "cell_type": "code",
      "metadata": {
        "colab": {
          "base_uri": "https://localhost:8080/"
        },
        "id": "c7a92156",
        "outputId": "a6702862-af92-4918-bdb1-e146d4712785"
      },
      "source": [
        "import nltk\n",
        "nltk.download('punkt_tab')"
      ],
      "execution_count": null,
      "outputs": [
        {
          "output_type": "stream",
          "name": "stderr",
          "text": [
            "[nltk_data] Downloading package punkt_tab to /root/nltk_data...\n",
            "[nltk_data]   Package punkt_tab is already up-to-date!\n"
          ]
        },
        {
          "output_type": "execute_result",
          "data": {
            "text/plain": [
              "True"
            ]
          },
          "metadata": {},
          "execution_count": 46
        }
      ]
    },
    {
      "cell_type": "code",
      "source": [
        "def finalpreprocess(string):\n",
        "    return lemmatizer(stopword(preprocess(string)))\n",
        "df_train['clean_text'] = df_train['STORY'].apply(lambda x: finalpreprocess(x))\n",
        "df_train.head()"
      ],
      "metadata": {
        "colab": {
          "base_uri": "https://localhost:8080/",
          "height": 206
        },
        "id": "xFNEAK_mpd4Q",
        "outputId": "b53a109b-4faa-431f-bff7-881aceeb6906"
      },
      "execution_count": null,
      "outputs": [
        {
          "output_type": "execute_result",
          "data": {
            "text/plain": [
              "                                               STORY  SECTION  word_count  \\\n",
              "0  But the most painful was the huge reversal in ...        3         148   \n",
              "1  How formidable is the opposition alliance amon...        0          17   \n",
              "2  Most Asian currencies were trading lower today...        3          58   \n",
              "3  If you want to answer any question, click on ...        1         103   \n",
              "4  In global markets, gold prices edged up today ...        3          46   \n",
              "\n",
              "   char_count                                         clean_text  \n",
              "0         843  painful huge reversal fee income unheard among...  \n",
              "1         129  formidable opposition alliance among congress ...  \n",
              "2         386  asian currency trade low today south korean ch...  \n",
              "3         587  want answer question click answer click answer...  \n",
              "4         299  global market gold price edge today disappoint...  "
            ],
            "text/html": [
              "\n",
              "  <div id=\"df-863be128-cd29-4eec-93ce-226cdfde1eed\" class=\"colab-df-container\">\n",
              "    <div>\n",
              "<style scoped>\n",
              "    .dataframe tbody tr th:only-of-type {\n",
              "        vertical-align: middle;\n",
              "    }\n",
              "\n",
              "    .dataframe tbody tr th {\n",
              "        vertical-align: top;\n",
              "    }\n",
              "\n",
              "    .dataframe thead th {\n",
              "        text-align: right;\n",
              "    }\n",
              "</style>\n",
              "<table border=\"1\" class=\"dataframe\">\n",
              "  <thead>\n",
              "    <tr style=\"text-align: right;\">\n",
              "      <th></th>\n",
              "      <th>STORY</th>\n",
              "      <th>SECTION</th>\n",
              "      <th>word_count</th>\n",
              "      <th>char_count</th>\n",
              "      <th>clean_text</th>\n",
              "    </tr>\n",
              "  </thead>\n",
              "  <tbody>\n",
              "    <tr>\n",
              "      <th>0</th>\n",
              "      <td>But the most painful was the huge reversal in ...</td>\n",
              "      <td>3</td>\n",
              "      <td>148</td>\n",
              "      <td>843</td>\n",
              "      <td>painful huge reversal fee income unheard among...</td>\n",
              "    </tr>\n",
              "    <tr>\n",
              "      <th>1</th>\n",
              "      <td>How formidable is the opposition alliance amon...</td>\n",
              "      <td>0</td>\n",
              "      <td>17</td>\n",
              "      <td>129</td>\n",
              "      <td>formidable opposition alliance among congress ...</td>\n",
              "    </tr>\n",
              "    <tr>\n",
              "      <th>2</th>\n",
              "      <td>Most Asian currencies were trading lower today...</td>\n",
              "      <td>3</td>\n",
              "      <td>58</td>\n",
              "      <td>386</td>\n",
              "      <td>asian currency trade low today south korean ch...</td>\n",
              "    </tr>\n",
              "    <tr>\n",
              "      <th>3</th>\n",
              "      <td>If you want to answer any question, click on ...</td>\n",
              "      <td>1</td>\n",
              "      <td>103</td>\n",
              "      <td>587</td>\n",
              "      <td>want answer question click answer click answer...</td>\n",
              "    </tr>\n",
              "    <tr>\n",
              "      <th>4</th>\n",
              "      <td>In global markets, gold prices edged up today ...</td>\n",
              "      <td>3</td>\n",
              "      <td>46</td>\n",
              "      <td>299</td>\n",
              "      <td>global market gold price edge today disappoint...</td>\n",
              "    </tr>\n",
              "  </tbody>\n",
              "</table>\n",
              "</div>\n",
              "    <div class=\"colab-df-buttons\">\n",
              "\n",
              "  <div class=\"colab-df-container\">\n",
              "    <button class=\"colab-df-convert\" onclick=\"convertToInteractive('df-863be128-cd29-4eec-93ce-226cdfde1eed')\"\n",
              "            title=\"Convert this dataframe to an interactive table.\"\n",
              "            style=\"display:none;\">\n",
              "\n",
              "  <svg xmlns=\"http://www.w3.org/2000/svg\" height=\"24px\" viewBox=\"0 -960 960 960\">\n",
              "    <path d=\"M120-120v-720h720v720H120Zm60-500h600v-160H180v160Zm220 220h160v-160H400v160Zm0 220h160v-160H400v160ZM180-400h160v-160H180v160Zm440 0h160v-160H620v160ZM180-180h160v-160H180v160Zm440 0h160v-160H620v160Z\"/>\n",
              "  </svg>\n",
              "    </button>\n",
              "\n",
              "  <style>\n",
              "    .colab-df-container {\n",
              "      display:flex;\n",
              "      gap: 12px;\n",
              "    }\n",
              "\n",
              "    .colab-df-convert {\n",
              "      background-color: #E8F0FE;\n",
              "      border: none;\n",
              "      border-radius: 50%;\n",
              "      cursor: pointer;\n",
              "      display: none;\n",
              "      fill: #1967D2;\n",
              "      height: 32px;\n",
              "      padding: 0 0 0 0;\n",
              "      width: 32px;\n",
              "    }\n",
              "\n",
              "    .colab-df-convert:hover {\n",
              "      background-color: #E2EBFA;\n",
              "      box-shadow: 0px 1px 2px rgba(60, 64, 67, 0.3), 0px 1px 3px 1px rgba(60, 64, 67, 0.15);\n",
              "      fill: #174EA6;\n",
              "    }\n",
              "\n",
              "    .colab-df-buttons div {\n",
              "      margin-bottom: 4px;\n",
              "    }\n",
              "\n",
              "    [theme=dark] .colab-df-convert {\n",
              "      background-color: #3B4455;\n",
              "      fill: #D2E3FC;\n",
              "    }\n",
              "\n",
              "    [theme=dark] .colab-df-convert:hover {\n",
              "      background-color: #434B5C;\n",
              "      box-shadow: 0px 1px 3px 1px rgba(0, 0, 0, 0.15);\n",
              "      filter: drop-shadow(0px 1px 2px rgba(0, 0, 0, 0.3));\n",
              "      fill: #FFFFFF;\n",
              "    }\n",
              "  </style>\n",
              "\n",
              "    <script>\n",
              "      const buttonEl =\n",
              "        document.querySelector('#df-863be128-cd29-4eec-93ce-226cdfde1eed button.colab-df-convert');\n",
              "      buttonEl.style.display =\n",
              "        google.colab.kernel.accessAllowed ? 'block' : 'none';\n",
              "\n",
              "      async function convertToInteractive(key) {\n",
              "        const element = document.querySelector('#df-863be128-cd29-4eec-93ce-226cdfde1eed');\n",
              "        const dataTable =\n",
              "          await google.colab.kernel.invokeFunction('convertToInteractive',\n",
              "                                                    [key], {});\n",
              "        if (!dataTable) return;\n",
              "\n",
              "        const docLinkHtml = 'Like what you see? Visit the ' +\n",
              "          '<a target=\"_blank\" href=https://colab.research.google.com/notebooks/data_table.ipynb>data table notebook</a>'\n",
              "          + ' to learn more about interactive tables.';\n",
              "        element.innerHTML = '';\n",
              "        dataTable['output_type'] = 'display_data';\n",
              "        await google.colab.output.renderOutput(dataTable, element);\n",
              "        const docLink = document.createElement('div');\n",
              "        docLink.innerHTML = docLinkHtml;\n",
              "        element.appendChild(docLink);\n",
              "      }\n",
              "    </script>\n",
              "  </div>\n",
              "\n",
              "\n",
              "    <div id=\"df-b8e3bc89-712a-472d-80b1-36e1197e8ba6\">\n",
              "      <button class=\"colab-df-quickchart\" onclick=\"quickchart('df-b8e3bc89-712a-472d-80b1-36e1197e8ba6')\"\n",
              "                title=\"Suggest charts\"\n",
              "                style=\"display:none;\">\n",
              "\n",
              "<svg xmlns=\"http://www.w3.org/2000/svg\" height=\"24px\"viewBox=\"0 0 24 24\"\n",
              "     width=\"24px\">\n",
              "    <g>\n",
              "        <path d=\"M19 3H5c-1.1 0-2 .9-2 2v14c0 1.1.9 2 2 2h14c1.1 0 2-.9 2-2V5c0-1.1-.9-2-2-2zM9 17H7v-7h2v7zm4 0h-2V7h2v10zm4 0h-2v-4h2v4z\"/>\n",
              "    </g>\n",
              "</svg>\n",
              "      </button>\n",
              "\n",
              "<style>\n",
              "  .colab-df-quickchart {\n",
              "      --bg-color: #E8F0FE;\n",
              "      --fill-color: #1967D2;\n",
              "      --hover-bg-color: #E2EBFA;\n",
              "      --hover-fill-color: #174EA6;\n",
              "      --disabled-fill-color: #AAA;\n",
              "      --disabled-bg-color: #DDD;\n",
              "  }\n",
              "\n",
              "  [theme=dark] .colab-df-quickchart {\n",
              "      --bg-color: #3B4455;\n",
              "      --fill-color: #D2E3FC;\n",
              "      --hover-bg-color: #434B5C;\n",
              "      --hover-fill-color: #FFFFFF;\n",
              "      --disabled-bg-color: #3B4455;\n",
              "      --disabled-fill-color: #666;\n",
              "  }\n",
              "\n",
              "  .colab-df-quickchart {\n",
              "    background-color: var(--bg-color);\n",
              "    border: none;\n",
              "    border-radius: 50%;\n",
              "    cursor: pointer;\n",
              "    display: none;\n",
              "    fill: var(--fill-color);\n",
              "    height: 32px;\n",
              "    padding: 0;\n",
              "    width: 32px;\n",
              "  }\n",
              "\n",
              "  .colab-df-quickchart:hover {\n",
              "    background-color: var(--hover-bg-color);\n",
              "    box-shadow: 0 1px 2px rgba(60, 64, 67, 0.3), 0 1px 3px 1px rgba(60, 64, 67, 0.15);\n",
              "    fill: var(--button-hover-fill-color);\n",
              "  }\n",
              "\n",
              "  .colab-df-quickchart-complete:disabled,\n",
              "  .colab-df-quickchart-complete:disabled:hover {\n",
              "    background-color: var(--disabled-bg-color);\n",
              "    fill: var(--disabled-fill-color);\n",
              "    box-shadow: none;\n",
              "  }\n",
              "\n",
              "  .colab-df-spinner {\n",
              "    border: 2px solid var(--fill-color);\n",
              "    border-color: transparent;\n",
              "    border-bottom-color: var(--fill-color);\n",
              "    animation:\n",
              "      spin 1s steps(1) infinite;\n",
              "  }\n",
              "\n",
              "  @keyframes spin {\n",
              "    0% {\n",
              "      border-color: transparent;\n",
              "      border-bottom-color: var(--fill-color);\n",
              "      border-left-color: var(--fill-color);\n",
              "    }\n",
              "    20% {\n",
              "      border-color: transparent;\n",
              "      border-left-color: var(--fill-color);\n",
              "      border-top-color: var(--fill-color);\n",
              "    }\n",
              "    30% {\n",
              "      border-color: transparent;\n",
              "      border-left-color: var(--fill-color);\n",
              "      border-top-color: var(--fill-color);\n",
              "      border-right-color: var(--fill-color);\n",
              "    }\n",
              "    40% {\n",
              "      border-color: transparent;\n",
              "      border-right-color: var(--fill-color);\n",
              "      border-top-color: var(--fill-color);\n",
              "    }\n",
              "    60% {\n",
              "      border-color: transparent;\n",
              "      border-right-color: var(--fill-color);\n",
              "    }\n",
              "    80% {\n",
              "      border-color: transparent;\n",
              "      border-right-color: var(--fill-color);\n",
              "      border-bottom-color: var(--fill-color);\n",
              "    }\n",
              "    90% {\n",
              "      border-color: transparent;\n",
              "      border-bottom-color: var(--fill-color);\n",
              "    }\n",
              "  }\n",
              "</style>\n",
              "\n",
              "      <script>\n",
              "        async function quickchart(key) {\n",
              "          const quickchartButtonEl =\n",
              "            document.querySelector('#' + key + ' button');\n",
              "          quickchartButtonEl.disabled = true;  // To prevent multiple clicks.\n",
              "          quickchartButtonEl.classList.add('colab-df-spinner');\n",
              "          try {\n",
              "            const charts = await google.colab.kernel.invokeFunction(\n",
              "                'suggestCharts', [key], {});\n",
              "          } catch (error) {\n",
              "            console.error('Error during call to suggestCharts:', error);\n",
              "          }\n",
              "          quickchartButtonEl.classList.remove('colab-df-spinner');\n",
              "          quickchartButtonEl.classList.add('colab-df-quickchart-complete');\n",
              "        }\n",
              "        (() => {\n",
              "          let quickchartButtonEl =\n",
              "            document.querySelector('#df-b8e3bc89-712a-472d-80b1-36e1197e8ba6 button');\n",
              "          quickchartButtonEl.style.display =\n",
              "            google.colab.kernel.accessAllowed ? 'block' : 'none';\n",
              "        })();\n",
              "      </script>\n",
              "    </div>\n",
              "\n",
              "    </div>\n",
              "  </div>\n"
            ],
            "application/vnd.google.colaboratory.intrinsic+json": {
              "type": "dataframe",
              "variable_name": "df_train",
              "summary": "{\n  \"name\": \"df_train\",\n  \"rows\": 7628,\n  \"fields\": [\n    {\n      \"column\": \"STORY\",\n      \"properties\": {\n        \"dtype\": \"string\",\n        \"num_unique_values\": 7548,\n        \"samples\": [\n          \"For instance, Samsung\\u0092s AMOLED panels on its flagship devices can cost nearly ?20,000 to replace. Similarly, getting an OLED display replaced on the iPhone Xs Max can reportedly cost up to $329 (around ?23,470).\\n\\n\\nFurther, since the display also accounts for most of the phone\\u0092s battery usage, two displays running two different sets of apps at the same time will not only require more processing speeds but more battery power too.\\n\\n\\n\\u0093Then there is the question of what value the second screen adds, in comparison to bendable screens, which allow users to switch from a 4-inch to an 8-inch screen,\\\" IDC\\u0092s Singh points out.\\n\\n\\nA lot of the display advancements revolve on how the rest of the ecosystem is evolving, say analysts. Nevertheless, Tarun Pathak, associate director (mobile devices and ecosystems) at Counterpoint Research, believes the time is right for dual-screen phones or foldable phones.\",\n          \"In a separate press conference, BJP spokesperson GVL Narasimha Rao said, \\\"The so-called all-party meeting convened in Delhi is nothing but a confession of defeat by the so-called Mahagathbandhan.\\\" \\\"They are already trying to find excuses for their impending massive defeat. They have not only failed to mount a challenge against the BJP in this election but have also failed as an opposition in the last five years,\\\" he added.\\n\\n\\nAfter the opposition parties' meet on EVMs, AAP supremo Kejriwal told reporters that the people were losing faith in EVMs and the election procedure. Congress leaders and senior advocates Kapil Sibal and Abhishek Singhvi also attended the conference.\\n\\n\\nSinghvi said the opposition parties will approach the Supreme Court for a direction to the EC for matching at least 50% of the votes recorded in VVPAT slips with those registered by EVMs in every assembly segment.\\n\\n\\nSibal said, \\u0093If the EC ignores this issue, we will take other measures. We will not sit quietly. We will approach the Supreme Court.\\\" Singhvi said the opposition parties would launch a nationwide campaign on the issue of \\\"discrepancies\\\" in EVMs and alleged the EC was not doing enough to address it.\\n\\n\\n\\\"Questions were raised after the first phase of elections, we don't think the EC is paying adequate attention. If you press the button before X party, vote goes to Y party. VVPAT displays (paper slips) only for 3 seconds, instead of 7 seconds,\\\" he claimed. \\\"Why the EC does not want 50% VVPAT slips to be counted. Today, 20 to 25% EVMs are not working properly. People vote till 4 am and wait in queues. What does this mean?\\\" asked Sibal, doubting the EC's intentions.\",\n          \"The court expressed its satisfaction at the EC\\u0092s decision to take action against offenders. On Monday, the commission, after being rebuked by the Supreme Court, swiftly passed orders against Mayawati and three other political leaders\\u0097Uttar Pradesh chief minister Yogi Adityanath, Union minister Maneka Gandhi and Samajwadi Party leader Azam Khan. The orders bar them from campaigning, holding public meetings or propagating their parties\\u0092 interests for varying periods.\\n\\n\\nOn Monday, the poll watchdog had told the court that it had no powers to disqualify a candidate found violating the model code of conduct. It could send them a notice followed by an advisory.\\n\\n\\n\\u0093Only in case of repeated violation of the advisories, the EC has the power to file a first information report with the police for initiation of criminal proceedings,\\\" Gogoi observed on Monday.\\n\\n\\nGogoi had ordered the presence of the EC representative in the court as it examined the powers of the body and the actions taken by it against \\u0093instances of making of speeches provoking enmity or hatred between classes of citizens or for voting for any person on the grounds of religion, caste etc\\\".\"\n        ],\n        \"semantic_type\": \"\",\n        \"description\": \"\"\n      }\n    },\n    {\n      \"column\": \"SECTION\",\n      \"properties\": {\n        \"dtype\": \"number\",\n        \"std\": 0,\n        \"min\": 0,\n        \"max\": 3,\n        \"num_unique_values\": 4,\n        \"samples\": [\n          0,\n          2,\n          3\n        ],\n        \"semantic_type\": \"\",\n        \"description\": \"\"\n      }\n    },\n    {\n      \"column\": \"word_count\",\n      \"properties\": {\n        \"dtype\": \"number\",\n        \"std\": 85,\n        \"min\": 10,\n        \"max\": 1018,\n        \"num_unique_values\": 450,\n        \"samples\": [\n          248,\n          339,\n          64\n        ],\n        \"semantic_type\": \"\",\n        \"description\": \"\"\n      }\n    },\n    {\n      \"column\": \"char_count\",\n      \"properties\": {\n        \"dtype\": \"number\",\n        \"std\": 521,\n        \"min\": 100,\n        \"max\": 6015,\n        \"num_unique_values\": 1652,\n        \"samples\": [\n          372,\n          831,\n          335\n        ],\n        \"semantic_type\": \"\",\n        \"description\": \"\"\n      }\n    },\n    {\n      \"column\": \"clean_text\",\n      \"properties\": {\n        \"dtype\": \"string\",\n        \"num_unique_values\": 7525,\n        \"samples\": [\n          \"new delhi supreme court thursday direct election commission ec take decision plea seek advance poll time remain phase general election coincide ramzan ramzan expect begin may remain three poll phase may muslims observe rigorous fast holy month\",\n          \"election rapidly morph showdown prime minister narendra modi restthe close democratic framework like indias fashion term presidential contest mint narendra modi response india pakistan conflict past month threaten reorder narrative election campaign election commission india ec announce date election sunday die cast tempting try seek parallel past etch trend upcoming electoral showdown would mistake every election whether national state unique narrative obvious question election good hazard rapidly morph showdown prime minister narendra modi rest close democratic framework like indias fashion term presidential contest\",\n          \"apple remove bunch virus scan apps app store company even add provision developer guideline prevent apps app store phishing attack constantly headline every day apps software useful wont prevent potential attack say kasperskys bhayani avoid attack aware cyber security keep system updated keep password strong refer consumer report trustable software disable wi fi bluetooth gps youre use add accord guideline cybersecurity firm sophos user keep phone update use encryption install apps trust source among thing keep smartphones safe\"\n        ],\n        \"semantic_type\": \"\",\n        \"description\": \"\"\n      }\n    }\n  ]\n}"
            }
          },
          "metadata": {},
          "execution_count": 47
        }
      ]
    },
    {
      "cell_type": "markdown",
      "source": [
        "**vectorization**"
      ],
      "metadata": {
        "id": "xNvAjcUDqM-n"
      }
    },
    {
      "cell_type": "code",
      "source": [
        "#SPLITTING THE TRAINING DATASET INTO TRAIN AND TEST\n",
        "X_train, X_test, y_train, y_test = train_test_split(df_train[\"clean_text\"],df_train[\"SECTION\"],test_size=0.2,shuffle=True)\n",
        "#Word2Vec\n",
        "# Word2Vec runs on tokenized sentences\n",
        "X_train_tok= [nltk.word_tokenize(i) for i in X_train]\n",
        "X_test_tok= [nltk.word_tokenize(i) for i in X_test]"
      ],
      "metadata": {
        "id": "QR7q8qmAqPa1"
      },
      "execution_count": null,
      "outputs": []
    },
    {
      "cell_type": "code",
      "source": [
        "#Tf-Idf\n",
        "tfidf_vectorizer = TfidfVectorizer(use_idf=True)\n",
        "X_train_vectors_tfidf = tfidf_vectorizer.fit_transform(X_train)\n",
        "X_test_vectors_tfidf = tfidf_vectorizer.transform(X_test)\n",
        "\n",
        "#building Word2Vec model\n",
        "# Word2Vec runs on tokenized sentences, X_train_tok and X_test_tok are already created\n",
        "model = Word2Vec(X_train_tok, min_count=1)\n",
        "\n",
        "class MeanEmbeddingVectorizer(object):\n",
        "    def __init__(self, word2vec):\n",
        "        self.word2vec = word2vec\n",
        "        # if a text is empty we should return a vector of zeros\n",
        "        # with the same dimensionality as all the other vectors\n",
        "        if word2vec:\n",
        "            self.dim = len(next(iter(word2vec.values())))\n",
        "        else:\n",
        "            self.dim = 0\n",
        "\n",
        "    def fit(self, X, y):\n",
        "        return self\n",
        "\n",
        "    def transform(self, X):\n",
        "        return np.array([\n",
        "            np.mean([self.word2vec[w] for w in words if w in self.word2vec]\n",
        "                    or [np.zeros(self.dim)], axis=0)\n",
        "            for words in X\n",
        "        ])\n",
        "\n",
        "w2v = dict(zip(model.wv.index_to_key, model.wv.vectors))\n",
        "modelw = MeanEmbeddingVectorizer(w2v)\n",
        "\n",
        "# converting text to numerical data using Word2Vec\n",
        "X_train_vectors_w2v = modelw.transform(X_train_tok)\n",
        "X_val_vectors_w2v = modelw.transform(X_test_tok)"
      ],
      "metadata": {
        "id": "HgWcjfu3qkKn"
      },
      "execution_count": null,
      "outputs": []
    },
    {
      "cell_type": "code",
      "source": [
        "#FITTING THE CLASSIFICATION MODEL using Logistic Regression(tf-idf)\n",
        "lr_tfidf=LogisticRegression(solver = 'liblinear', C=10, penalty = 'l2')\n",
        "lr_tfidf.fit(X_train_vectors_tfidf, y_train)\n",
        "#Predict y value for test dataset\n",
        "y_predict = lr_tfidf.predict(X_test_vectors_tfidf)\n",
        "y_prob = lr_tfidf.predict_proba(X_test_vectors_tfidf)[:,1]\n",
        "print(classification_report(y_test,y_predict))\n",
        "print('Confusion Matrix:',confusion_matrix(y_test, y_predict))"
      ],
      "metadata": {
        "colab": {
          "base_uri": "https://localhost:8080/"
        },
        "id": "KYd6sb3_qtw9",
        "outputId": "3623fa18-7e3f-43b3-9db7-07dd9d934420"
      },
      "execution_count": null,
      "outputs": [
        {
          "output_type": "stream",
          "name": "stdout",
          "text": [
            "              precision    recall  f1-score   support\n",
            "\n",
            "           0       0.97      0.94      0.95       361\n",
            "           1       0.98      0.98      0.98       562\n",
            "           2       0.95      0.99      0.97       363\n",
            "           3       0.98      0.97      0.97       240\n",
            "\n",
            "    accuracy                           0.97      1526\n",
            "   macro avg       0.97      0.97      0.97      1526\n",
            "weighted avg       0.97      0.97      0.97      1526\n",
            "\n",
            "Confusion Matrix: [[338   6  16   1]\n",
            " [  5 550   3   4]\n",
            " [  4   0 359   0]\n",
            " [  1   6   0 233]]\n"
          ]
        }
      ]
    },
    {
      "cell_type": "code",
      "source": [
        "#FITTING THE CLASSIFICATION MODEL using Logistic Regression (W2v)\n",
        "lr_w2v=LogisticRegression(solver = 'liblinear', C=10, penalty = 'l2')\n",
        "lr_w2v.fit(X_train_vectors_w2v, y_train)  #model\n",
        "#Predict y value for test dataset\n",
        "y_predict = lr_w2v.predict(X_val_vectors_w2v)\n",
        "#y_prob = lr_w2v.predict_proba(X_val_vectors_w2v)[:,1] # Removed as it's not needed for metrics\n",
        "print(classification_report(y_test,y_predict))\n",
        "print('Confusion Matrix:',confusion_matrix(y_test, y_predict))\n",
        "\n",
        "# Removed ROC curve and AUC calculation as they are for binary classification\n",
        "# fpr, tpr, thresholds = roc_curve(y_test, y_prob)\n",
        "# roc_auc = auc(fpr, tpr)\n",
        "# print('AUC:', roc_auc)"
      ],
      "metadata": {
        "colab": {
          "base_uri": "https://localhost:8080/"
        },
        "id": "JWvY3Gekq3LF",
        "outputId": "d691f403-52b1-4a43-8a6e-203930422a4d"
      },
      "execution_count": null,
      "outputs": [
        {
          "output_type": "stream",
          "name": "stdout",
          "text": [
            "              precision    recall  f1-score   support\n",
            "\n",
            "           0       0.93      0.91      0.92       361\n",
            "           1       0.94      0.95      0.95       562\n",
            "           2       0.91      0.94      0.93       363\n",
            "           3       0.95      0.91      0.93       240\n",
            "\n",
            "    accuracy                           0.93      1526\n",
            "   macro avg       0.93      0.93      0.93      1526\n",
            "weighted avg       0.93      0.93      0.93      1526\n",
            "\n",
            "Confusion Matrix: [[328  11  18   4]\n",
            " [  7 536  12   7]\n",
            " [ 13   9 340   1]\n",
            " [  4  16   2 218]]\n"
          ]
        }
      ]
    },
    {
      "cell_type": "code",
      "source": [
        "#FITTING THE CLASSIFICATION MODEL using Naive Bayes(tf-idf)\n",
        "nb_tfidf = MultinomialNB()\n",
        "nb_tfidf.fit(X_train_vectors_tfidf, y_train)\n",
        "#Predict y value for test dataset\n",
        "y_predict = nb_tfidf.predict(X_test_vectors_tfidf)\n",
        "y_prob = nb_tfidf.predict_proba(X_test_vectors_tfidf)[:,1]\n",
        "print(classification_report(y_test,y_predict))\n",
        "print('Confusion Matrix:',confusion_matrix(y_test, y_predict))"
      ],
      "metadata": {
        "colab": {
          "base_uri": "https://localhost:8080/"
        },
        "id": "a_37AxFXrIKd",
        "outputId": "010dcc92-6403-40a0-fbc9-326e75c250d2"
      },
      "execution_count": null,
      "outputs": [
        {
          "output_type": "stream",
          "name": "stdout",
          "text": [
            "              precision    recall  f1-score   support\n",
            "\n",
            "           0       0.96      0.95      0.95       361\n",
            "           1       0.89      0.99      0.94       562\n",
            "           2       0.99      0.90      0.94       363\n",
            "           3       1.00      0.89      0.94       240\n",
            "\n",
            "    accuracy                           0.94      1526\n",
            "   macro avg       0.96      0.93      0.94      1526\n",
            "weighted avg       0.95      0.94      0.94      1526\n",
            "\n",
            "Confusion Matrix: [[343  16   2   0]\n",
            " [  2 558   2   0]\n",
            " [ 12  26 325   0]\n",
            " [  1  25   0 214]]\n"
          ]
        }
      ]
    },
    {
      "cell_type": "code",
      "source": [
        "#Pre-processing the new dataset\n",
        "df_test['clean_text'] = df_test['STORY'].apply(lambda x: finalpreprocess(x)) #preprocess the data\n",
        "X_test=df_test['clean_text']\n",
        "#converting words to numerical data using tf-idf\n",
        "X_vector=tfidf_vectorizer.transform(X_test)\n",
        "#use the best model to predict 'target' value for the new dataset\n",
        "y_predict = lr_tfidf.predict(X_vector)\n",
        "df_test['target']= y_predict\n",
        "print(df_test.head())"
      ],
      "metadata": {
        "colab": {
          "base_uri": "https://localhost:8080/"
        },
        "id": "KT5htbbQrTeP",
        "outputId": "02155061-8a54-435e-a7f3-4b7354b6ecc1"
      },
      "execution_count": null,
      "outputs": [
        {
          "output_type": "stream",
          "name": "stdout",
          "text": [
            "                                               STORY  \\\n",
            "0  2019 will see gadgets like gaming smartphones ...   \n",
            "1  It has also unleashed a wave of changes in the...   \n",
            "2  It can be confusing to pick the right smartpho...   \n",
            "3  The mobile application is integrated with a da...   \n",
            "4  We have rounded up some of the gadgets that sh...   \n",
            "\n",
            "                                          clean_text  target  \n",
            "0  see gadget like game smartphones wearable medi...       1  \n",
            "1  also unleashed wave change mcu make sure futur...       2  \n",
            "2  confuse pick right smartphone segregate top sm...       1  \n",
            "3  mobile application integrate dashboard confirm...       1  \n",
            "4  round gadget show left indelible mark consumer...       1  \n"
          ]
        }
      ]
    }
  ]
}